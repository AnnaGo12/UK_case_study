{
 "cells": [
  {
   "cell_type": "code",
   "execution_count": null,
   "id": "bd7fbbdc",
   "metadata": {},
   "outputs": [],
   "source": [
    "import pandas as pd\n",
    "\n",
    "#Read CSV file\n",
    "df_load = pd.read_csv('../data/CC_LCL-FullData.csv')\n",
    "df_generation = pd.read_csv('../solar_calc/pv_output_2020_37kWp.csv')"
   ]
  },
  {
   "cell_type": "code",
   "execution_count": 2,
   "id": "dc3d1146",
   "metadata": {},
   "outputs": [
    {
     "name": "stderr",
     "output_type": "stream",
     "text": [
      "C:\\Users\\agorb\\AppData\\Local\\Temp\\ipykernel_15032\\795614447.py:11: FutureWarning: Using the level keyword in DataFrame and Series aggregations is deprecated and will be removed in a future version. Use groupby instead. df.sum(level=1) should use df.groupby(level=1).sum().\n",
      "  df_load = df_load.sum(level=[0,1])\n"
     ]
    }
   ],
   "source": [
    "#Convert datetime to datetime type\n",
    "df_load['DateTime'] = pd.to_datetime(df_load['DateTime'])\n",
    "\n",
    "# Remove duplicate rows based on smart meter id and datetime columns\n",
    "df_load = df_load.drop_duplicates(subset=['LCLid','DateTime'])\n",
    "\n",
    "# Set datetime and household identifier as multi-level index\n",
    "df_load = df_load.set_index(['DateTime','LCLid'])\n",
    "\n",
    "# Groupby datetime and household identifier and sum the energy consumption\n",
    "df_load = df_load.sum(level=[0,1])\n",
    "\n",
    "# Reset the index\n",
    "df_load = df_load.reset_index(['LCLid'])\n",
    "\n",
    "# Pivot the table with household identifier as columns and kWh as values\n",
    "df_load = df_load.pivot(columns='LCLid',values='KWH/hh (per half hour) ')"
   ]
  },
  {
   "cell_type": "code",
   "execution_count": 3,
   "id": "ad7ab0c6",
   "metadata": {},
   "outputs": [
    {
     "data": {
      "text/html": [
       "<div>\n",
       "<style scoped>\n",
       "    .dataframe tbody tr th:only-of-type {\n",
       "        vertical-align: middle;\n",
       "    }\n",
       "\n",
       "    .dataframe tbody tr th {\n",
       "        vertical-align: top;\n",
       "    }\n",
       "\n",
       "    .dataframe thead th {\n",
       "        text-align: right;\n",
       "    }\n",
       "</style>\n",
       "<table border=\"1\" class=\"dataframe\">\n",
       "  <thead>\n",
       "    <tr style=\"text-align: right;\">\n",
       "      <th>LCLid</th>\n",
       "      <th>MAC000006</th>\n",
       "      <th>MAC000007</th>\n",
       "      <th>MAC000008</th>\n",
       "      <th>MAC000009</th>\n",
       "    </tr>\n",
       "    <tr>\n",
       "      <th>DateTime</th>\n",
       "      <th></th>\n",
       "      <th></th>\n",
       "      <th></th>\n",
       "      <th></th>\n",
       "    </tr>\n",
       "  </thead>\n",
       "  <tbody>\n",
       "    <tr>\n",
       "      <th>2012-10-01 15:00:00</th>\n",
       "      <td>0.074</td>\n",
       "      <td>0.079</td>\n",
       "      <td>0.274</td>\n",
       "      <td>0.231</td>\n",
       "    </tr>\n",
       "    <tr>\n",
       "      <th>2012-10-01 15:30:00</th>\n",
       "      <td>0.062</td>\n",
       "      <td>0.07</td>\n",
       "      <td>0.262</td>\n",
       "      <td>0.228</td>\n",
       "    </tr>\n",
       "    <tr>\n",
       "      <th>2012-10-01 16:00:00</th>\n",
       "      <td>0.032</td>\n",
       "      <td>0.106</td>\n",
       "      <td>0.311</td>\n",
       "      <td>0.209</td>\n",
       "    </tr>\n",
       "    <tr>\n",
       "      <th>2012-10-01 16:30:00</th>\n",
       "      <td>0.063</td>\n",
       "      <td>0.059</td>\n",
       "      <td>0.393</td>\n",
       "      <td>0.306</td>\n",
       "    </tr>\n",
       "    <tr>\n",
       "      <th>2012-10-01 17:00:00</th>\n",
       "      <td>0.046</td>\n",
       "      <td>0.026</td>\n",
       "      <td>1.011</td>\n",
       "      <td>0.172</td>\n",
       "    </tr>\n",
       "    <tr>\n",
       "      <th>2012-10-01 17:30:00</th>\n",
       "      <td>0.031</td>\n",
       "      <td>0.041</td>\n",
       "      <td>0.81</td>\n",
       "      <td>0.157</td>\n",
       "    </tr>\n",
       "    <tr>\n",
       "      <th>2012-10-01 18:00:00</th>\n",
       "      <td>0.073</td>\n",
       "      <td>0.041</td>\n",
       "      <td>0.442</td>\n",
       "      <td>0.22</td>\n",
       "    </tr>\n",
       "  </tbody>\n",
       "</table>\n",
       "</div>"
      ],
      "text/plain": [
       "LCLid               MAC000006 MAC000007 MAC000008 MAC000009\n",
       "DateTime                                                   \n",
       "2012-10-01 15:00:00    0.074     0.079     0.274     0.231 \n",
       "2012-10-01 15:30:00    0.062      0.07     0.262     0.228 \n",
       "2012-10-01 16:00:00    0.032     0.106     0.311     0.209 \n",
       "2012-10-01 16:30:00    0.063     0.059     0.393     0.306 \n",
       "2012-10-01 17:00:00    0.046     0.026     1.011     0.172 \n",
       "2012-10-01 17:30:00    0.031     0.041      0.81     0.157 \n",
       "2012-10-01 18:00:00    0.073     0.041     0.442      0.22 "
      ]
     },
     "execution_count": 3,
     "metadata": {},
     "output_type": "execute_result"
    }
   ],
   "source": [
    "#Filter the dataframe by datetime range,\n",
    "df_load_snapshot = df_load[(df_load.index >= '2012-10-01 15:00:00') & (df_load.index <= '2012-10-01 18:00:00')]\n",
    "\n",
    "#Select the first 5 smart_meter_ids\n",
    "df_load_snapshot = df_load_snapshot.iloc[:, 3:7]\n",
    "df_load_snapshot"
   ]
  },
  {
   "cell_type": "code",
   "execution_count": null,
   "id": "939c8db3",
   "metadata": {},
   "outputs": [],
   "source": []
  },
  {
   "cell_type": "code",
   "execution_count": 157,
   "id": "78e6e1f8",
   "metadata": {},
   "outputs": [
    {
     "name": "stderr",
     "output_type": "stream",
     "text": [
      "C:\\Users\\agorb\\AppData\\Local\\Temp\\ipykernel_8320\\57807461.py:5: FutureWarning: In a future version of pandas all arguments of DataFrame.set_index except for the argument 'keys' will be keyword-only.\n",
      "  df_generation = df_generation.set_index(['DateTime'], True)\n"
     ]
    },
    {
     "data": {
      "text/html": [
       "<div>\n",
       "<style scoped>\n",
       "    .dataframe tbody tr th:only-of-type {\n",
       "        vertical-align: middle;\n",
       "    }\n",
       "\n",
       "    .dataframe tbody tr th {\n",
       "        vertical-align: top;\n",
       "    }\n",
       "\n",
       "    .dataframe thead th {\n",
       "        text-align: right;\n",
       "    }\n",
       "</style>\n",
       "<table border=\"1\" class=\"dataframe\">\n",
       "  <thead>\n",
       "    <tr style=\"text-align: right;\">\n",
       "      <th></th>\n",
       "      <th>kWh/hh</th>\n",
       "    </tr>\n",
       "    <tr>\n",
       "      <th>DateTime</th>\n",
       "      <th></th>\n",
       "    </tr>\n",
       "  </thead>\n",
       "  <tbody>\n",
       "    <tr>\n",
       "      <th>2012-10-01 15:00:00</th>\n",
       "      <td>4.583962</td>\n",
       "    </tr>\n",
       "    <tr>\n",
       "      <th>2012-10-01 15:30:00</th>\n",
       "      <td>2.294551</td>\n",
       "    </tr>\n",
       "    <tr>\n",
       "      <th>2012-10-01 16:00:00</th>\n",
       "      <td>1.281834</td>\n",
       "    </tr>\n",
       "    <tr>\n",
       "      <th>2012-10-01 16:30:00</th>\n",
       "      <td>0.259193</td>\n",
       "    </tr>\n",
       "    <tr>\n",
       "      <th>2012-10-01 17:00:00</th>\n",
       "      <td>0.000000</td>\n",
       "    </tr>\n",
       "    <tr>\n",
       "      <th>2012-10-01 17:30:00</th>\n",
       "      <td>0.000000</td>\n",
       "    </tr>\n",
       "    <tr>\n",
       "      <th>2012-10-01 18:00:00</th>\n",
       "      <td>0.000000</td>\n",
       "    </tr>\n",
       "  </tbody>\n",
       "</table>\n",
       "</div>"
      ],
      "text/plain": [
       "                       kWh/hh\n",
       "DateTime                     \n",
       "2012-10-01 15:00:00  4.583962\n",
       "2012-10-01 15:30:00  2.294551\n",
       "2012-10-01 16:00:00  1.281834\n",
       "2012-10-01 16:30:00  0.259193\n",
       "2012-10-01 17:00:00  0.000000\n",
       "2012-10-01 17:30:00  0.000000\n",
       "2012-10-01 18:00:00  0.000000"
      ]
     },
     "execution_count": 157,
     "metadata": {},
     "output_type": "execute_result"
    }
   ],
   "source": [
    "#Convert datetime to datetime type\n",
    "df_generation['DateTime'] = pd.to_datetime(df_generation['DateTime'])\n",
    "\n",
    "# Set datetime identifier as multi-level index\n",
    "df_generation = df_generation.set_index(['DateTime'], True)\n",
    "\n",
    "df_generation_snapshot = df_generation[(df_generation.index >= '2020-10-01 15:00:00') & (df_generation.index <= '2020-10-01 18:00:00')]\n",
    "\n",
    "#set same index\n",
    "\n",
    "df_generation_snapshot.index = df_load_snapshot.index\n",
    "df_generation_snapshot"
   ]
  },
  {
   "cell_type": "code",
   "execution_count": 158,
   "id": "0f68b7cc",
   "metadata": {},
   "outputs": [
    {
     "data": {
      "text/html": [
       "<div>\n",
       "<style scoped>\n",
       "    .dataframe tbody tr th:only-of-type {\n",
       "        vertical-align: middle;\n",
       "    }\n",
       "\n",
       "    .dataframe tbody tr th {\n",
       "        vertical-align: top;\n",
       "    }\n",
       "\n",
       "    .dataframe thead th {\n",
       "        text-align: right;\n",
       "    }\n",
       "</style>\n",
       "<table border=\"1\" class=\"dataframe\">\n",
       "  <thead>\n",
       "    <tr style=\"text-align: right;\">\n",
       "      <th>LCLid</th>\n",
       "      <th>MAC000006</th>\n",
       "      <th>MAC000007</th>\n",
       "      <th>MAC000008</th>\n",
       "      <th>MAC000009</th>\n",
       "    </tr>\n",
       "    <tr>\n",
       "      <th>DateTime</th>\n",
       "      <th></th>\n",
       "      <th></th>\n",
       "      <th></th>\n",
       "      <th></th>\n",
       "    </tr>\n",
       "  </thead>\n",
       "  <tbody>\n",
       "    <tr>\n",
       "      <th>2012-10-01 15:00:00</th>\n",
       "      <td>-4.509962</td>\n",
       "      <td>-4.504962</td>\n",
       "      <td>-4.309962</td>\n",
       "      <td>-4.352962</td>\n",
       "    </tr>\n",
       "    <tr>\n",
       "      <th>2012-10-01 15:30:00</th>\n",
       "      <td>-2.232551</td>\n",
       "      <td>-2.224551</td>\n",
       "      <td>-2.032551</td>\n",
       "      <td>-2.066551</td>\n",
       "    </tr>\n",
       "    <tr>\n",
       "      <th>2012-10-01 16:00:00</th>\n",
       "      <td>-1.249834</td>\n",
       "      <td>-1.175834</td>\n",
       "      <td>-0.970834</td>\n",
       "      <td>-1.072834</td>\n",
       "    </tr>\n",
       "    <tr>\n",
       "      <th>2012-10-01 16:30:00</th>\n",
       "      <td>-0.196193</td>\n",
       "      <td>-0.200193</td>\n",
       "      <td>0.133807</td>\n",
       "      <td>0.046807</td>\n",
       "    </tr>\n",
       "    <tr>\n",
       "      <th>2012-10-01 17:00:00</th>\n",
       "      <td>0.046000</td>\n",
       "      <td>0.026000</td>\n",
       "      <td>1.011000</td>\n",
       "      <td>0.172000</td>\n",
       "    </tr>\n",
       "    <tr>\n",
       "      <th>2012-10-01 17:30:00</th>\n",
       "      <td>0.031000</td>\n",
       "      <td>0.041000</td>\n",
       "      <td>0.810000</td>\n",
       "      <td>0.157000</td>\n",
       "    </tr>\n",
       "    <tr>\n",
       "      <th>2012-10-01 18:00:00</th>\n",
       "      <td>0.073000</td>\n",
       "      <td>0.041000</td>\n",
       "      <td>0.442000</td>\n",
       "      <td>0.220000</td>\n",
       "    </tr>\n",
       "  </tbody>\n",
       "</table>\n",
       "</div>"
      ],
      "text/plain": [
       "LCLid                MAC000006  MAC000007  MAC000008  MAC000009\n",
       "DateTime                                                       \n",
       "2012-10-01 15:00:00  -4.509962  -4.504962  -4.309962  -4.352962\n",
       "2012-10-01 15:30:00  -2.232551  -2.224551  -2.032551  -2.066551\n",
       "2012-10-01 16:00:00  -1.249834  -1.175834  -0.970834  -1.072834\n",
       "2012-10-01 16:30:00  -0.196193  -0.200193   0.133807   0.046807\n",
       "2012-10-01 17:00:00   0.046000   0.026000   1.011000   0.172000\n",
       "2012-10-01 17:30:00   0.031000   0.041000   0.810000   0.157000\n",
       "2012-10-01 18:00:00   0.073000   0.041000   0.442000   0.220000"
      ]
     },
     "execution_count": 158,
     "metadata": {},
     "output_type": "execute_result"
    }
   ],
   "source": [
    "df_load_snapshot = df_load_snapshot.apply(pd.to_numeric)\n",
    "df_generation_snapshot = df_generation_snapshot.apply(pd.to_numeric)\n",
    "result_df = df_load_snapshot.apply(lambda x: x - df_generation_snapshot['kWh/hh'])\n",
    "result_df"
   ]
  },
  {
   "cell_type": "markdown",
   "id": "365b4685",
   "metadata": {},
   "source": [
    "\n",
    "# Remove all nan values from csv \n",
    "\n"
   ]
  },
  {
   "cell_type": "code",
   "execution_count": 7,
   "id": "93d5d22b",
   "metadata": {},
   "outputs": [],
   "source": [
    "import pandas as pd\n",
    "# Load the CSV file into a pandas dataframe\n",
    "df = pd.read_csv('MAC000002.csv')\n",
    "\n",
    "# Convert the \"DateTime\" column to a datetime type\n",
    "df['DateTime'] = pd.to_datetime(df['DateTime'])\n",
    "# Set the \"DateTime\" column as the index of the dataframe\n",
    "df.set_index('DateTime', inplace=True)\n",
    "# Resample the dataframe to fill any missing datetime values with NaN values\n",
    "df = df.resample('30min').mean()\n",
    "nan_count = df['consumption'].isnull().sum()\n",
    "nan_count\n"
   ]
  },
  {
   "cell_type": "markdown",
   "id": "b2cd5058",
   "metadata": {},
   "source": [
    "# Test Gini coefficient \n"
   ]
  },
  {
   "cell_type": "code",
   "execution_count": 1,
   "id": "34dd560f",
   "metadata": {},
   "outputs": [],
   "source": [
    "import random "
   ]
  },
  {
   "cell_type": "code",
   "execution_count": 2,
   "id": "b293d4ed",
   "metadata": {},
   "outputs": [
    {
     "name": "stdout",
     "output_type": "stream",
     "text": [
      "[5, 6, 8, 2, 4]\n",
      "[3, 9, 7, 6, 2]\n",
      "[3, 2, 5, 10, 8]\n",
      "[1, 10, 3, 6, 5]\n"
     ]
    }
   ],
   "source": [
    "def generate_list():\n",
    "    return random.sample(range(1, 11), 5)\n",
    "\n",
    "list1 = generate_list()\n",
    "list2 = generate_list()\n",
    "list3 = generate_list()\n",
    "list4 = generate_list()\n",
    "\n",
    "print(list1)\n",
    "print(list2)\n",
    "print(list3)\n",
    "print(list4)"
   ]
  },
  {
   "cell_type": "code",
   "execution_count": 3,
   "id": "526bd98e",
   "metadata": {},
   "outputs": [],
   "source": [
    "def equality_index(list_of_values):\n",
    "    sorted_list = sorted(list_of_values)\n",
    "    height, area = 0, 0\n",
    "    for value in sorted_list:\n",
    "        height += value\n",
    "        area += height - value / 2.\n",
    "    fair_area = height * len(list_of_values) / 2.\n",
    "    return 1- ((fair_area - area) / fair_area)"
   ]
  },
  {
   "cell_type": "code",
   "execution_count": 4,
   "id": "468dda6e",
   "metadata": {},
   "outputs": [
    {
     "data": {
      "text/plain": [
       "0.776"
      ]
     },
     "execution_count": 4,
     "metadata": {},
     "output_type": "execute_result"
    }
   ],
   "source": [
    "result = equality_index(list1)\n",
    "result"
   ]
  },
  {
   "cell_type": "code",
   "execution_count": null,
   "id": "05e6271e",
   "metadata": {},
   "outputs": [],
   "source": [
    "for i, flats_per_run in enumerate(simulation):\n",
    "    y_values.append(sum(flats_per_run))\n",
    "    gini_coefficient = gini(y_values)\n",
    "    print(gini_coefficient)\n",
    "    gini_values.append(gini_coefficient)"
   ]
  }
 ],
 "metadata": {
  "kernelspec": {
   "display_name": "venv",
   "language": "python",
   "name": "venv"
  },
  "language_info": {
   "codemirror_mode": {
    "name": "ipython",
    "version": 3
   },
   "file_extension": ".py",
   "mimetype": "text/x-python",
   "name": "python",
   "nbconvert_exporter": "python",
   "pygments_lexer": "ipython3",
   "version": "3.9.7"
  }
 },
 "nbformat": 4,
 "nbformat_minor": 5
}
